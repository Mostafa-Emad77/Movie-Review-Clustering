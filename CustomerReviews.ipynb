{
 "cells": [
  {
   "cell_type": "code",
   "execution_count": 1,
   "id": "f6363243-7dd3-474c-b357-e9adf958812a",
   "metadata": {},
   "outputs": [],
   "source": [
    "import pandas as pd \n",
    "import numpy as np \n",
    "import re\n",
    "import matplotlib.pyplot as plt \n",
    "import seaborn as sns\n",
    "from sklearn.feature_extraction.text import TfidfVectorizer\n",
    "from sklearn.cluster import KMeans\n",
    "from nltk.sentiment import SentimentIntensityAnalyzer\n",
    "from nltk.tokenize import word_tokenize\n",
    "from nltk.corpus import stopwords\n",
    "from nltk.stem import WordNetLemmatizer\n",
    "from sklearn.metrics import silhouette_score\n",
    "import matplotlib.pyplot as plt\n",
    "from sklearn.decomposition import PCA\n",
    "from sklearn.decomposition import TruncatedSVD"
   ]
  },
  {
   "cell_type": "code",
   "execution_count": 2,
   "id": "f177c2a3-80c8-476b-8b9e-22c663911040",
   "metadata": {},
   "outputs": [],
   "source": [
    "file_name='movie_review.csv'\n",
    "data=pd.read_csv(file_name)"
   ]
  },
  {
   "cell_type": "code",
   "execution_count": 3,
   "id": "0175a574-4ca6-449c-87e4-5008e2fe4af5",
   "metadata": {},
   "outputs": [
    {
     "data": {
      "text/html": [
       "<div>\n",
       "<style scoped>\n",
       "    .dataframe tbody tr th:only-of-type {\n",
       "        vertical-align: middle;\n",
       "    }\n",
       "\n",
       "    .dataframe tbody tr th {\n",
       "        vertical-align: top;\n",
       "    }\n",
       "\n",
       "    .dataframe thead th {\n",
       "        text-align: right;\n",
       "    }\n",
       "</style>\n",
       "<table border=\"1\" class=\"dataframe\">\n",
       "  <thead>\n",
       "    <tr style=\"text-align: right;\">\n",
       "      <th></th>\n",
       "      <th>review</th>\n",
       "    </tr>\n",
       "  </thead>\n",
       "  <tbody>\n",
       "    <tr>\n",
       "      <th>0</th>\n",
       "      <td>films adapted from comic books have had plenty...</td>\n",
       "    </tr>\n",
       "    <tr>\n",
       "      <th>1</th>\n",
       "      <td>for starters , it was created by alan moore ( ...</td>\n",
       "    </tr>\n",
       "    <tr>\n",
       "      <th>2</th>\n",
       "      <td>to say moore and campbell thoroughly researche...</td>\n",
       "    </tr>\n",
       "    <tr>\n",
       "      <th>3</th>\n",
       "      <td>the book ( or \" graphic novel , \" if you will ...</td>\n",
       "    </tr>\n",
       "    <tr>\n",
       "      <th>4</th>\n",
       "      <td>in other words , don't dismiss this film becau...</td>\n",
       "    </tr>\n",
       "  </tbody>\n",
       "</table>\n",
       "</div>"
      ],
      "text/plain": [
       "                                              review\n",
       "0  films adapted from comic books have had plenty...\n",
       "1  for starters , it was created by alan moore ( ...\n",
       "2  to say moore and campbell thoroughly researche...\n",
       "3  the book ( or \" graphic novel , \" if you will ...\n",
       "4  in other words , don't dismiss this film becau..."
      ]
     },
     "execution_count": 3,
     "metadata": {},
     "output_type": "execute_result"
    }
   ],
   "source": [
    "data.head()"
   ]
  },
  {
   "cell_type": "code",
   "execution_count": 4,
   "id": "d8a83803-1466-4f4c-abe4-7d8888d7e2fb",
   "metadata": {},
   "outputs": [
    {
     "data": {
      "text/plain": [
       "review    object\n",
       "dtype: object"
      ]
     },
     "execution_count": 4,
     "metadata": {},
     "output_type": "execute_result"
    }
   ],
   "source": [
    "data.dtypes"
   ]
  },
  {
   "cell_type": "code",
   "execution_count": 5,
   "id": "6abb72d8-add6-4685-89f0-08c643208949",
   "metadata": {},
   "outputs": [],
   "source": [
    "def remove_html_tags(text):\n",
    "    clean_text = re.sub(r'<.*?>', '', text)\n",
    "    return clean_text"
   ]
  },
  {
   "cell_type": "code",
   "execution_count": 6,
   "id": "8b4c7fe4-3981-44de-a947-6e8c83bcba47",
   "metadata": {},
   "outputs": [],
   "source": [
    "def clean_text(text):\n",
    "    # Remove HTML tags\n",
    "    clean_text = re.sub(r'<.*?>', '', text)\n",
    "    # Remove parentheses, double quotes, and other symbols\n",
    "    clean_text = re.sub(r'[\\(\\)\\\"\\'\\[\\]\\{\\}\\.,;:!?]', '', clean_text)\n",
    "    # Remove stopwords\n",
    "    stop_words = set(stopwords.words('english'))\n",
    "    words = clean_text.split()\n",
    "    clean_text = ' '.join([word for word in words if word.lower() not in stop_words])\n",
    "    return clean_text"
   ]
  },
  {
   "cell_type": "code",
   "execution_count": 7,
   "id": "cd4bd13d-2e69-4ad1-b2ae-b7219c3d2875",
   "metadata": {},
   "outputs": [],
   "source": [
    "data['review'] = data['review'].apply(remove_html_tags)"
   ]
  },
  {
   "cell_type": "code",
   "execution_count": 8,
   "id": "7510b65f-0bbe-42a6-8da2-e8079efa7635",
   "metadata": {},
   "outputs": [],
   "source": [
    "data['review'] = data['review'].apply(clean_text)"
   ]
  },
  {
   "cell_type": "code",
   "execution_count": 9,
   "id": "cd6651bb-c91c-42c6-88f2-65f9db52cb99",
   "metadata": {},
   "outputs": [
    {
     "data": {
      "text/html": [
       "<div>\n",
       "<style scoped>\n",
       "    .dataframe tbody tr th:only-of-type {\n",
       "        vertical-align: middle;\n",
       "    }\n",
       "\n",
       "    .dataframe tbody tr th {\n",
       "        vertical-align: top;\n",
       "    }\n",
       "\n",
       "    .dataframe thead th {\n",
       "        text-align: right;\n",
       "    }\n",
       "</style>\n",
       "<table border=\"1\" class=\"dataframe\">\n",
       "  <thead>\n",
       "    <tr style=\"text-align: right;\">\n",
       "      <th></th>\n",
       "      <th>review</th>\n",
       "    </tr>\n",
       "  </thead>\n",
       "  <tbody>\n",
       "    <tr>\n",
       "      <th>0</th>\n",
       "      <td>films adapted comic books plenty success wheth...</td>\n",
       "    </tr>\n",
       "    <tr>\n",
       "      <th>1</th>\n",
       "      <td>starters created alan moore eddie campbell bro...</td>\n",
       "    </tr>\n",
       "    <tr>\n",
       "      <th>2</th>\n",
       "      <td>say moore campbell thoroughly researched subje...</td>\n",
       "    </tr>\n",
       "    <tr>\n",
       "      <th>3</th>\n",
       "      <td>book graphic novel 500 pages long includes nea...</td>\n",
       "    </tr>\n",
       "    <tr>\n",
       "      <th>4</th>\n",
       "      <td>words dont dismiss film source</td>\n",
       "    </tr>\n",
       "  </tbody>\n",
       "</table>\n",
       "</div>"
      ],
      "text/plain": [
       "                                              review\n",
       "0  films adapted comic books plenty success wheth...\n",
       "1  starters created alan moore eddie campbell bro...\n",
       "2  say moore campbell thoroughly researched subje...\n",
       "3  book graphic novel 500 pages long includes nea...\n",
       "4                     words dont dismiss film source"
      ]
     },
     "execution_count": 9,
     "metadata": {},
     "output_type": "execute_result"
    }
   ],
   "source": [
    "data.head()"
   ]
  },
  {
   "cell_type": "code",
   "execution_count": 10,
   "id": "a43193d8-d13d-43f3-be50-c31e5504f276",
   "metadata": {},
   "outputs": [],
   "source": [
    "sia = SentimentIntensityAnalyzer()\n",
    "\n",
    "# Calculate sentiment scores for each review\n",
    "data['sentiment_score'] = data['review'].apply(lambda x: sia.polarity_scores(x)['compound'])"
   ]
  },
  {
   "cell_type": "code",
   "execution_count": 11,
   "id": "ab415e0d-9638-4715-8db9-c6b76e29e8ec",
   "metadata": {},
   "outputs": [],
   "source": [
    "kmeans = KMeans(n_clusters=2, init='k-means++')"
   ]
  },
  {
   "cell_type": "code",
   "execution_count": 14,
   "id": "cf473ac9-94b9-4895-8419-d1ab714a7359",
   "metadata": {},
   "outputs": [
    {
     "name": "stderr",
     "output_type": "stream",
     "text": [
      "C:\\Users\\Mostafa\\anaconda3\\Lib\\site-packages\\sklearn\\cluster\\_kmeans.py:1412: FutureWarning: The default value of `n_init` will change from 10 to 'auto' in 1.4. Set the value of `n_init` explicitly to suppress the warning\n",
      "  super()._check_params_vs_input(X, default_n_init=10)\n"
     ]
    }
   ],
   "source": [
    "kmeans.fit(data[['sentiment_score']])\n",
    "# Get cluster labels\n",
    "data['cluster'] = kmeans.labels_\n",
    "\n",
    "# Separate reviews into \"good movies\" and \"bad movies\" clusters\n",
    "good_movies_cluster = data[data['cluster'] == 0]['review']\n",
    "bad_movies_cluster = data[data['cluster'] == 1]['review']"
   ]
  },
  {
   "cell_type": "code",
   "execution_count": 15,
   "id": "137c9203-aa30-4603-9e39-3ceb87380c6e",
   "metadata": {},
   "outputs": [
    {
     "name": "stdout",
     "output_type": "stream",
     "text": [
      "Good Movies Cluster:\n",
      "0        films adapted comic books plenty success wheth...\n",
      "2        say moore campbell thoroughly researched subje...\n",
      "4                           words dont dismiss film source\n",
      "5        get past whole comic book thing might find ano...\n",
      "6        getting hughes brothers direct seems almost lu...\n",
      "                               ...                        \n",
      "64709    meanwhile bros overbearing father dan hedaya w...\n",
      "64713    alas joke--a rather lazy takeoff _jerry_maguir...\n",
      "64715      lack inspiration traced back insipid characters\n",
      "64718                        bump unsuspecting women thats\n",
      "64719    watching _a_night_at_the_roxbury_ youll left e...\n",
      "Name: review, Length: 37430, dtype: object\n",
      "\n",
      "Bad Movies Cluster:\n",
      "1        starters created alan moore eddie campbell bro...\n",
      "3        book graphic novel 500 pages long includes nea...\n",
      "13       comic dont bother cloaking identity ripper scr...\n",
      "16                        dont worry - itll make sense see\n",
      "17       onto hells appearance certainly dark bleak eno...\n",
      "                               ...                        \n",
      "64711    narrative messiness _roxbury_ would forgivable...\n",
      "64712    assembled press audience mostly sat stonily si...\n",
      "64714    granted lot people _have_ seen _jerry_maguire_...\n",
      "64716    like many skits current incarnation _saturday_...\n",
      "64717    watching one roxbury skits snl come away chara...\n",
      "Name: review, Length: 27290, dtype: object\n"
     ]
    }
   ],
   "source": [
    "print(\"Good Movies Cluster:\")\n",
    "print(good_movies_cluster)\n",
    "print(\"\\nBad Movies Cluster:\")\n",
    "print(bad_movies_cluster)"
   ]
  },
  {
   "cell_type": "code",
   "execution_count": 19,
   "id": "83d83a3a-669f-40bc-8d75-feef15e9db74",
   "metadata": {},
   "outputs": [
    {
     "data": {
      "image/png": "[encoded data removed]",
      "text/plain": [
       "<Figure size 800x600 with 2 Axes>"
      ]
     },
     "metadata": {},
     "output_type": "display_data"
    }
   ],
   "source": [
    "import matplotlib.pyplot as plt\n",
    "\n",
    "# Plot sentiment scores against cluster labels\n",
    "plt.figure(figsize=(8, 6))\n",
    "plt.scatter(data['cluster'], data['sentiment_score'], c=data['cluster'], cmap='viridis')\n",
    "plt.title('Clusters Visualization')\n",
    "plt.xlabel('Cluster')\n",
    "plt.ylabel('Sentiment Score')\n",
    "plt.xticks(np.arange(len(data['cluster'].unique())), ['Cluster 0', 'Cluster 1'])\n",
    "plt.colorbar(label='Cluster')\n",
    "plt.show()\n"
   ]
  },
  {
   "cell_type": "code",
   "execution_count": 20,
   "id": "e3948d6c-e07b-4734-9472-0e53d492d020",
   "metadata": {},
   "outputs": [
    {
     "name": "stdout",
     "output_type": "stream",
     "text": [
      "Cluster Counts:\n",
      "cluster\n",
      "0    37430\n",
      "1    27290\n",
      "Name: count, dtype: int64\n"
     ]
    }
   ],
   "source": [
    "cluster_counts = data['cluster'].value_counts()\n",
    "print(\"Cluster Counts:\")\n",
    "print(cluster_counts)"
   ]
  },
  {
   "cell_type": "code",
   "execution_count": 25,
   "id": "ff53aee4-1275-4769-a080-8c6c73878816",
   "metadata": {},
   "outputs": [
    {
     "name": "stdout",
     "output_type": "stream",
     "text": [
      "Review: This movie was amazing! I loved every minute of it.\n",
      "Predicted Cluster: 1\n",
      "\n",
      "Review: I couldn't stand this film. It was boring and poorly acted.\n",
      "Predicted Cluster: 0\n",
      "\n",
      "Review: The plot of this movie was confusing, but the acting was excellent.\n",
      "Predicted Cluster: 1\n",
      "\n",
      "Review: I highly recommend this film. It's a must-watch!\n",
      "Predicted Cluster: 1\n",
      "\n",
      "Review: Overall, this movie was disappointing. I expected more.\n",
      "Predicted Cluster: 0\n",
      "\n",
      "Review: The special effects in this film were impressive, but the storyline lacked depth.\n",
      "Predicted Cluster: 1\n",
      "\n"
     ]
    },
    {
     "name": "stderr",
     "output_type": "stream",
     "text": [
      "C:\\Users\\Mostafa\\anaconda3\\Lib\\site-packages\\sklearn\\base.py:464: UserWarning: X does not have valid feature names, but KMeans was fitted with feature names\n",
      "  warnings.warn(\n"
     ]
    }
   ],
   "source": [
    "from nltk.sentiment import SentimentIntensityAnalyzer\n",
    "\n",
    "# Initialize sentiment analyzer\n",
    "sia = SentimentIntensityAnalyzer()\n",
    "\n",
    "# Example new reviews\n",
    "new_reviews = [\n",
    "    \"This movie was amazing! I loved every minute of it.\",\n",
    "    \"I couldn't stand this film. It was boring and poorly acted.\",\n",
    "    \"The plot of this movie was confusing, but the acting was excellent.\",\n",
    "    \"I highly recommend this film. It's a must-watch!\",\n",
    "    \"Overall, this movie was disappointing. I expected more.\",\n",
    "    \"The special effects in this film were impressive, but the storyline lacked depth.\"\n",
    "]\n",
    "\n",
    "# Preprocess the new reviews and calculate sentiment scores\n",
    "sentiment_scores = [sia.polarity_scores(review)['compound'] for review in new_reviews]\n",
    "\n",
    "# Predict the cluster labels for the sentiment scores using the trained K-means model\n",
    "predicted_clusters = kmeans.predict(np.array(sentiment_scores).reshape(-1, 1))\n",
    "\n",
    "# Display the predicted cluster labels for the new reviews\n",
    "for i, review in enumerate(new_reviews):\n",
    "    print(\"Review:\", review)\n",
    "    print(\"Predicted Cluster:\", predicted_clusters[i])\n",
    "    print()\n"
   ]
  },
  {
   "cell_type": "code",
   "execution_count": null,
   "id": "1505f7b6-4dd9-45e2-9e01-ab71a8e22f98",
   "metadata": {},
   "outputs": [],
   "source": []
  },
  {
   "cell_type": "code",
   "execution_count": null,
   "id": "0fecfeee-c360-4f7e-a485-0b0db4c8f7c5",
   "metadata": {},
   "outputs": [],
   "source": []
  }
 ],
 "metadata": {
  "kernelspec": {
   "display_name": "Python 3 (ipykernel)",
   "language": "python",
   "name": "python3"
  },
  "language_info": {
   "codemirror_mode": {
    "name": "ipython",
    "version": 3
   },
   "file_extension": ".py",
   "mimetype": "text/x-python",
   "name": "python",
   "nbconvert_exporter": "python",
   "pygments_lexer": "ipython3",
   "version": "3.11.5"
  }
 },
 "nbformat": 4,
 "nbformat_minor": 5
}
